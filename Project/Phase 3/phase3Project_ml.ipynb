{
 "cells": [
  {
   "cell_type": "code",
   "execution_count": 1,
   "metadata": {},
   "outputs": [
    {
     "name": "stderr",
     "output_type": "stream",
     "text": [
      "C:\\Users\\niles\\Anaconda3\\lib\\site-packages\\h5py\\__init__.py:36: FutureWarning: Conversion of the second argument of issubdtype from `float` to `np.floating` is deprecated. In future, it will be treated as `np.float64 == np.dtype(float).type`.\n",
      "  from ._conv import register_converters as _register_converters\n",
      "Using TensorFlow backend.\n"
     ]
    }
   ],
   "source": [
    "from keras.models import Sequential\n",
    "from keras.layers import Conv2D\n",
    "from keras.layers import MaxPooling2D\n",
    "from keras.layers import Flatten\n",
    "from keras.layers import Dense\n",
    "from keras.preprocessing import image\n",
    "from keras.preprocessing.image import ImageDataGenerator\n",
    "from keras.layers import Activation\n",
    "from keras.models import load_model\n",
    "import matplotlib.pyplot as plt\n",
    "import pandas as pd\n",
    "import numpy as np\n",
    "from sklearn.model_selection import train_test_split\n",
    "from sklearn.metrics import confusion_matrix, precision_score, recall_score, f1_score\n",
    "\n",
    "X=pd.read_csv('X.csv',sep=' ', header=None, dtype=float)\n",
    "X=X.values\n",
    "\n",
    "y=pd.read_csv('y_bush_vs_others.csv',header=None)\n",
    "y_bush=y.values.ravel()\n",
    "z=pd.read_csv('y_williams_vs_others.csv',header=None)\n",
    "y_williams=z.values.ravel()"
   ]
  },
  {
   "cell_type": "code",
   "execution_count": 2,
   "metadata": {},
   "outputs": [],
   "source": [
    "#Reshaping\n",
    "X_new=[]\n",
    "for i in range(len(X)):\n",
    "    X_new.append(np.reshape(X[i],(64,64,1)))\n",
    "X_new1=np.array(X_new)\n",
    "\n",
    "#plt.imshow(X_new1[0])\n"
   ]
  },
  {
   "cell_type": "code",
   "execution_count": 3,
   "metadata": {},
   "outputs": [
    {
     "data": {
      "text/plain": [
       "(13233, 64, 64, 1)"
      ]
     },
     "execution_count": 3,
     "metadata": {},
     "output_type": "execute_result"
    }
   ],
   "source": [
    "type(X_new1[0][0][0][0])\n",
    "X_new1.shape"
   ]
  },
  {
   "cell_type": "code",
   "execution_count": 4,
   "metadata": {},
   "outputs": [],
   "source": [
    "x_train,x_test,y_train,y_test=train_test_split(X_new1, y_bush,test_size=1./3 , random_state=int('5042'),shuffle = True,stratify=y_bush)\n"
   ]
  },
  {
   "cell_type": "code",
   "execution_count": 5,
   "metadata": {},
   "outputs": [],
   "source": [
    "\n",
    "# Initialising the CNN\n",
    "classifier = Sequential()\n",
    "# Step 1 - Convolution\n",
    "classifier.add(Conv2D(32, (3,3), input_shape = (64, 64, 1), activation = 'relu'))\n",
    "# Step 2 - Poolin#g\n",
    "classifier.add(MaxPooling2D(pool_size = (2, 2)))\n",
    "# Adding a second convolutional layer\n",
    "#classifier.add(Conv2D(32, (3, 3), activation = 'relu'))\n",
    "#classifier.add(MaxPooling2D(pool_size = (2, 2)))\n",
    "# Step 3 - Flattening\n",
    "classifier.add(Flatten())\n",
    "# Step 4 - Full connection\n",
    "classifier.add(Dense(units=128,activation='relu'))\n",
    "classifier.add(Dense(1))\n",
    "classifier.add(Activation('sigmoid'))\n",
    "#classifier.add(Dense(units = 1, activation = 'sigmoid'))6666666666666\n",
    "\n",
    "# Compiling the CNN\n",
    "classifier.compile(optimizer = 'adam', loss = 'binary_crossentropy', metrics = ['accuracy'])\n"
   ]
  },
  {
   "cell_type": "code",
   "execution_count": 6,
   "metadata": {},
   "outputs": [
    {
     "name": "stdout",
     "output_type": "stream",
     "text": [
      "Epoch 1/10\n",
      "8822/8822 [==============================] - 32s 4ms/step - loss: 0.2233 - acc: 0.9600\n",
      "Epoch 2/10\n",
      "8822/8822 [==============================] - 32s 4ms/step - loss: 0.1521 - acc: 0.9600\n",
      "Epoch 3/10\n",
      "8822/8822 [==============================] - 30s 3ms/step - loss: 0.1223 - acc: 0.9600\n",
      "Epoch 4/10\n",
      "8822/8822 [==============================] - 30s 3ms/step - loss: 0.0884 - acc: 0.9600\n",
      "Epoch 5/10\n",
      "8822/8822 [==============================] - 30s 3ms/step - loss: 0.0674 - acc: 0.9666\n",
      "Epoch 6/10\n",
      "8822/8822 [==============================] - 30s 3ms/step - loss: 0.0556 - acc: 0.9752\n",
      "Epoch 7/10\n",
      "8822/8822 [==============================] - 30s 3ms/step - loss: 0.0443 - acc: 0.9832\n",
      "Epoch 8/10\n",
      "8822/8822 [==============================] - 30s 3ms/step - loss: 0.0356 - acc: 0.9889\n",
      "Epoch 9/10\n",
      "8822/8822 [==============================] - 30s 3ms/step - loss: 0.0311 - acc: 0.9915\n",
      "Epoch 10/10\n",
      "8822/8822 [==============================] - 30s 3ms/step - loss: 0.0286 - acc: 0.9941\n"
     ]
    },
    {
     "data": {
      "text/plain": [
       "<keras.callbacks.History at 0x2084af3cd30>"
      ]
     },
     "execution_count": 6,
     "metadata": {},
     "output_type": "execute_result"
    }
   ],
   "source": [
    "# Part 2 - Fitting the CNN to the images\n",
    "#training_set = train_datagen.flow_from_directory(x_train,target_size = (64, 64),batch_size = 32,class_mode = 'binary')\n",
    "#test_set = test_datagen.flow_from_directory(x_test,target_size = (64, 64),batch_size = 32,class_mode = 'binary')\n",
    "classifier.fit(x_train,y_train,epochs = 10, batch_size=100)\n"
   ]
  },
  {
   "cell_type": "code",
   "execution_count": 7,
   "metadata": {},
   "outputs": [
    {
     "name": "stdout",
     "output_type": "stream",
     "text": [
      "[[4233    1]\n",
      " [ 122   55]]\n",
      "0.9821428571428571\n",
      "0.3107344632768362\n",
      "0.4721030042918455\n",
      "0.9649122807017544\n"
     ]
    }
   ],
   "source": [
    "y_pred = classifier.predict_classes(x_test)\n",
    "x_pred = classifier.predict_classes(x_train)\n",
    "print(confusion_matrix(y_test, y_pred))\n",
    "print(precision_score(y_test, y_pred))\n",
    "print(recall_score(y_test, y_pred))\n",
    "print(f1_score(y_test,y_pred))\n",
    "print(f1_score(y_train,x_pred))\n"
   ]
  },
  {
   "cell_type": "code",
   "execution_count": 8,
   "metadata": {},
   "outputs": [],
   "source": [
    "#Model Save\n",
    "\n",
    "classifier.save('my_model_BUSH_New.h5')  # creates a HDF5 file 'my_model.h5'\n",
    "#del classifier  # deletes the existing model\n",
    "\n",
    "# returns a compiled model\n",
    "# identical to the previous one\n",
    "classifier2 = load_model('bush.h5')\n",
    "#print(classifier2)\n"
   ]
  },
  {
   "cell_type": "code",
   "execution_count": 9,
   "metadata": {},
   "outputs": [
    {
     "name": "stdout",
     "output_type": "stream",
     "text": [
      "<bound method Conv2D.get_config of <keras.layers.convolutional.Conv2D object at 0x000002084B48A940>>\n",
      "loss: 98.14%\n",
      "acc: 98.14%\n",
      "[[4221   13]\n",
      " [  69  108]]\n",
      "0.8925619834710744\n",
      "0.6101694915254238\n",
      "0.7248322147651007\n"
     ]
    }
   ],
   "source": [
    "print(classifier2.layers[0].get_config)\n",
    "# evaluate loaded model on test data \n",
    "# Define X_test & Y_test data first\n",
    "classifier2.compile(loss='binary_crossentropy', optimizer='adam', metrics=['accuracy'])\n",
    "score = classifier2.evaluate(x_test, y_test, verbose=0)\n",
    "print (\"%s: %.2f%%\" % (classifier2.metrics_names[0], score[1]*100))\n",
    "print (\"%s: %.2f%%\" % (classifier2.metrics_names[1], score[1]*100))\n",
    "y_pred = classifier2.predict_classes(x_test)\n",
    "print(confusion_matrix(y_test, y_pred))\n",
    "print(precision_score(y_test, y_pred))\n",
    "print(recall_score(y_test, y_pred))\n",
    "print(f1_score(y_test,y_pred))\n",
    "\n"
   ]
  },
  {
   "cell_type": "code",
   "execution_count": 10,
   "metadata": {},
   "outputs": [
    {
     "data": {
      "text/plain": [
       "(None, 64, 64, 1)"
      ]
     },
     "execution_count": 10,
     "metadata": {},
     "output_type": "execute_result"
    }
   ],
   "source": [
    "#print(classifier2.summary())\n",
    "#print(classifier2.get_weights())\n",
    "#weights = classifier2.layers[0].get_weights()\n",
    "#print(weights)\n",
    "classifier2.get_input_shape_at(0)\n",
    "      "
   ]
  },
  {
   "cell_type": "code",
   "execution_count": 11,
   "metadata": {},
   "outputs": [
    {
     "data": {
      "image/svg+xml": [
       "<svg height=\"556pt\" viewBox=\"0.00 0.00 217.00 556.00\" width=\"217pt\" xmlns=\"http://www.w3.org/2000/svg\" xmlns:xlink=\"http://www.w3.org/1999/xlink\">\n",
       "<g class=\"graph\" id=\"graph0\" transform=\"scale(1 1) rotate(0) translate(4 552)\">\n",
       "<title>G</title>\n",
       "<polygon fill=\"white\" points=\"-4,4 -4,-552 213,-552 213,4 -4,4\" stroke=\"none\"/>\n",
       "<!-- 2234646047040 -->\n",
       "<g class=\"node\" id=\"node1\"><title>2234646047040</title>\n",
       "<polygon fill=\"none\" points=\"41,-438.5 41,-474.5 168,-474.5 168,-438.5 41,-438.5\" stroke=\"black\"/>\n",
       "<text font-family=\"Times New Roman,serif\" font-size=\"14.00\" text-anchor=\"middle\" x=\"104.5\" y=\"-452.8\">conv2d_1: Conv2D</text>\n",
       "</g>\n",
       "<!-- 2234646047320 -->\n",
       "<g class=\"node\" id=\"node2\"><title>2234646047320</title>\n",
       "<polygon fill=\"none\" points=\"0,-365.5 0,-401.5 209,-401.5 209,-365.5 0,-365.5\" stroke=\"black\"/>\n",
       "<text font-family=\"Times New Roman,serif\" font-size=\"14.00\" text-anchor=\"middle\" x=\"104.5\" y=\"-379.8\">max_pooling2d_1: MaxPooling2D</text>\n",
       "</g>\n",
       "<!-- 2234646047040&#45;&gt;2234646047320 -->\n",
       "<g class=\"edge\" id=\"edge2\"><title>2234646047040-&gt;2234646047320</title>\n",
       "<path d=\"M104.5,-438.313C104.5,-430.289 104.5,-420.547 104.5,-411.569\" fill=\"none\" stroke=\"black\"/>\n",
       "<polygon fill=\"black\" points=\"108,-411.529 104.5,-401.529 101,-411.529 108,-411.529\" stroke=\"black\"/>\n",
       "</g>\n",
       "<!-- 2234646047544 -->\n",
       "<g class=\"node\" id=\"node3\"><title>2234646047544</title>\n",
       "<polygon fill=\"none\" points=\"50,-292.5 50,-328.5 159,-328.5 159,-292.5 50,-292.5\" stroke=\"black\"/>\n",
       "<text font-family=\"Times New Roman,serif\" font-size=\"14.00\" text-anchor=\"middle\" x=\"104.5\" y=\"-306.8\">flatten_1: Flatten</text>\n",
       "</g>\n",
       "<!-- 2234646047320&#45;&gt;2234646047544 -->\n",
       "<g class=\"edge\" id=\"edge3\"><title>2234646047320-&gt;2234646047544</title>\n",
       "<path d=\"M104.5,-365.313C104.5,-357.289 104.5,-347.547 104.5,-338.569\" fill=\"none\" stroke=\"black\"/>\n",
       "<polygon fill=\"black\" points=\"108,-338.529 104.5,-328.529 101,-338.529 108,-338.529\" stroke=\"black\"/>\n",
       "</g>\n",
       "<!-- 2234410801640 -->\n",
       "<g class=\"node\" id=\"node4\"><title>2234410801640</title>\n",
       "<polygon fill=\"none\" points=\"52.5,-219.5 52.5,-255.5 156.5,-255.5 156.5,-219.5 52.5,-219.5\" stroke=\"black\"/>\n",
       "<text font-family=\"Times New Roman,serif\" font-size=\"14.00\" text-anchor=\"middle\" x=\"104.5\" y=\"-233.8\">dense_1: Dense</text>\n",
       "</g>\n",
       "<!-- 2234646047544&#45;&gt;2234410801640 -->\n",
       "<g class=\"edge\" id=\"edge4\"><title>2234646047544-&gt;2234410801640</title>\n",
       "<path d=\"M104.5,-292.313C104.5,-284.289 104.5,-274.547 104.5,-265.569\" fill=\"none\" stroke=\"black\"/>\n",
       "<polygon fill=\"black\" points=\"108,-265.529 104.5,-255.529 101,-265.529 108,-265.529\" stroke=\"black\"/>\n",
       "</g>\n",
       "<!-- 2234410802816 -->\n",
       "<g class=\"node\" id=\"node5\"><title>2234410802816</title>\n",
       "<polygon fill=\"none\" points=\"30.5,-146.5 30.5,-182.5 178.5,-182.5 178.5,-146.5 30.5,-146.5\" stroke=\"black\"/>\n",
       "<text font-family=\"Times New Roman,serif\" font-size=\"14.00\" text-anchor=\"middle\" x=\"104.5\" y=\"-160.8\">activation_1: Activation</text>\n",
       "</g>\n",
       "<!-- 2234410801640&#45;&gt;2234410802816 -->\n",
       "<g class=\"edge\" id=\"edge5\"><title>2234410801640-&gt;2234410802816</title>\n",
       "<path d=\"M104.5,-219.313C104.5,-211.289 104.5,-201.547 104.5,-192.569\" fill=\"none\" stroke=\"black\"/>\n",
       "<polygon fill=\"black\" points=\"108,-192.529 104.5,-182.529 101,-192.529 108,-192.529\" stroke=\"black\"/>\n",
       "</g>\n",
       "<!-- 2234410801248 -->\n",
       "<g class=\"node\" id=\"node6\"><title>2234410801248</title>\n",
       "<polygon fill=\"none\" points=\"52.5,-73.5 52.5,-109.5 156.5,-109.5 156.5,-73.5 52.5,-73.5\" stroke=\"black\"/>\n",
       "<text font-family=\"Times New Roman,serif\" font-size=\"14.00\" text-anchor=\"middle\" x=\"104.5\" y=\"-87.8\">dense_2: Dense</text>\n",
       "</g>\n",
       "<!-- 2234410802816&#45;&gt;2234410801248 -->\n",
       "<g class=\"edge\" id=\"edge6\"><title>2234410802816-&gt;2234410801248</title>\n",
       "<path d=\"M104.5,-146.313C104.5,-138.289 104.5,-128.547 104.5,-119.569\" fill=\"none\" stroke=\"black\"/>\n",
       "<polygon fill=\"black\" points=\"108,-119.529 104.5,-109.529 101,-119.529 108,-119.529\" stroke=\"black\"/>\n",
       "</g>\n",
       "<!-- 2234410934000 -->\n",
       "<g class=\"node\" id=\"node7\"><title>2234410934000</title>\n",
       "<polygon fill=\"none\" points=\"30.5,-0.5 30.5,-36.5 178.5,-36.5 178.5,-0.5 30.5,-0.5\" stroke=\"black\"/>\n",
       "<text font-family=\"Times New Roman,serif\" font-size=\"14.00\" text-anchor=\"middle\" x=\"104.5\" y=\"-14.8\">activation_2: Activation</text>\n",
       "</g>\n",
       "<!-- 2234410801248&#45;&gt;2234410934000 -->\n",
       "<g class=\"edge\" id=\"edge7\"><title>2234410801248-&gt;2234410934000</title>\n",
       "<path d=\"M104.5,-73.3129C104.5,-65.2895 104.5,-55.5475 104.5,-46.5691\" fill=\"none\" stroke=\"black\"/>\n",
       "<polygon fill=\"black\" points=\"108,-46.5288 104.5,-36.5288 101,-46.5289 108,-46.5288\" stroke=\"black\"/>\n",
       "</g>\n",
       "<!-- 2234646046088 -->\n",
       "<g class=\"node\" id=\"node8\"><title>2234646046088</title>\n",
       "<polygon fill=\"none\" points=\"52.5,-511.5 52.5,-547.5 156.5,-547.5 156.5,-511.5 52.5,-511.5\" stroke=\"black\"/>\n",
       "<text font-family=\"Times New Roman,serif\" font-size=\"14.00\" text-anchor=\"middle\" x=\"104.5\" y=\"-525.8\">2234646046088</text>\n",
       "</g>\n",
       "<!-- 2234646046088&#45;&gt;2234646047040 -->\n",
       "<g class=\"edge\" id=\"edge1\"><title>2234646046088-&gt;2234646047040</title>\n",
       "<path d=\"M104.5,-511.313C104.5,-503.289 104.5,-493.547 104.5,-484.569\" fill=\"none\" stroke=\"black\"/>\n",
       "<polygon fill=\"black\" points=\"108,-484.529 104.5,-474.529 101,-484.529 108,-484.529\" stroke=\"black\"/>\n",
       "</g>\n",
       "</g>\n",
       "</svg>"
      ],
      "text/plain": [
       "<IPython.core.display.SVG object>"
      ]
     },
     "execution_count": 11,
     "metadata": {},
     "output_type": "execute_result"
    }
   ],
   "source": [
    "#Plot loaded model\n",
    "from keras.utils import plot_model\n",
    "from IPython.display import SVG\n",
    "from keras.utils.vis_utils import model_to_dot\n",
    "\n",
    "plot_model(classifier2, to_file='model.pdf')\n",
    "SVG(model_to_dot(classifier2).create(prog='dot', format='svg'))"
   ]
  },
  {
   "cell_type": "code",
   "execution_count": 22,
   "metadata": {},
   "outputs": [],
   "source": [
    "#Williams\n",
    "\n",
    "x_train_williams,x_test_williams,y_train_williams,y_test_williams=train_test_split(X_new1, y_williams,test_size=1./3 , random_state=int('5042'),shuffle = True,stratify=y_williams)\n"
   ]
  },
  {
   "cell_type": "code",
   "execution_count": 23,
   "metadata": {},
   "outputs": [],
   "source": [
    "# Initialising the CNN\n",
    "classifier_will = Sequential()\n",
    "# Step 1 - Convolution\n",
    "classifier_will.add(Conv2D(8, (3,3), input_shape = (64, 64, 1), activation = 'relu'))\n",
    "# Step 2 - Pooling\n",
    "classifier_will.add(MaxPooling2D(pool_size = (2, 2)))\n",
    "# Adding a second convolutional layer\n",
    "#classifier.add(Conv2D(32, (3, 3), activation = 'relu'))\n",
    "#classifier.add(MaxPooling2D(pool_size = (2, 2)))\n",
    "# Step 3 - Flattening\n",
    "classifier_will.add(Flatten())\n",
    "# Step 4 - Full connection\n",
    "classifier_will.add(Dense(units=16, activation='relu'))\n",
    "#classifier_will.add(Activation('tanh'))\n",
    "classifier_will.add(Dense(1))\n",
    "classifier_will.add(Activation('sigmoid'))\n",
    "#classifier.add(Dense(units = 1, activation = 'sigmoid'))6666666666666\n",
    "\n",
    "# Compiling the CNN\n",
    "classifier_will.compile(optimizer = 'rmsprop', loss = 'binary_crossentropy', metrics = ['accuracy'])\n"
   ]
  },
  {
   "cell_type": "code",
   "execution_count": null,
   "metadata": {},
   "outputs": [
    {
     "name": "stdout",
     "output_type": "stream",
     "text": [
      "Epoch 1/10\n",
      "8822/8822 [==============================] - 9s 1ms/step - loss: 0.0335 - acc: 0.9903\n",
      "Epoch 2/10\n",
      "8822/8822 [==============================] - 8s 942us/step - loss: 0.0174 - acc: 0.9960 2s - l\n",
      "Epoch 3/10\n",
      "8822/8822 [==============================] - 8s 948us/step - loss: 0.0134 - acc: 0.9957 2s - los\n",
      "Epoch 4/10\n",
      "8822/8822 [==============================] - 8s 945us/step - loss: 0.0109 - acc: 0.9963\n",
      "Epoch 5/10\n",
      "8822/8822 [==============================] - 8s 950us/step - loss: 0.0090 - acc: 0.9971\n",
      "Epoch 6/10\n",
      "8822/8822 [==============================] - 8s 949us/step - loss: 0.0076 - acc: 0.9972\n",
      "Epoch 7/10\n",
      "2400/8822 [=======>......................] - ETA: 6s - loss: 0.0082 - acc: 0.9971"
     ]
    }
   ],
   "source": [
    "classifier_will.fit(x_train_williams,y_train_williams,epochs = 10, batch_size=100)"
   ]
  },
  {
   "cell_type": "code",
   "execution_count": null,
   "metadata": {},
   "outputs": [],
   "source": [
    "y_pred_williams = classifier_will.predict_classes(x_test_williams)\n",
    "x_pred_williams= classifier_will.predict_classes(x_train_williams)\n",
    "#print(y_pred_williams)"
   ]
  },
  {
   "cell_type": "code",
   "execution_count": null,
   "metadata": {},
   "outputs": [],
   "source": [
    "print(confusion_matrix(y_test_williams, y_pred_williams))\n",
    "print(precision_score(y_test_williams, y_pred_williams))\n",
    "print(recall_score(y_test_williams, y_pred_williams))\n",
    "print(f1_score(y_test_williams,y_pred_williams))\n",
    "print(f1_score(y_train_williams,x_pred_williams))\n"
   ]
  },
  {
   "cell_type": "code",
   "execution_count": 17,
   "metadata": {},
   "outputs": [
    {
     "data": {
      "image/svg+xml": [
       "<svg height=\"483pt\" viewBox=\"0.00 0.00 217.00 483.00\" width=\"217pt\" xmlns=\"http://www.w3.org/2000/svg\" xmlns:xlink=\"http://www.w3.org/1999/xlink\">\n",
       "<g class=\"graph\" id=\"graph0\" transform=\"scale(1 1) rotate(0) translate(4 479)\">\n",
       "<title>G</title>\n",
       "<polygon fill=\"white\" points=\"-4,4 -4,-479 213,-479 213,4 -4,4\" stroke=\"none\"/>\n",
       "<!-- 2234416598880 -->\n",
       "<g class=\"node\" id=\"node1\"><title>2234416598880</title>\n",
       "<polygon fill=\"none\" points=\"41,-365.5 41,-401.5 168,-401.5 168,-365.5 41,-365.5\" stroke=\"black\"/>\n",
       "<text font-family=\"Times New Roman,serif\" font-size=\"14.00\" text-anchor=\"middle\" x=\"104.5\" y=\"-379.8\">conv2d_2: Conv2D</text>\n",
       "</g>\n",
       "<!-- 2234478841360 -->\n",
       "<g class=\"node\" id=\"node2\"><title>2234478841360</title>\n",
       "<polygon fill=\"none\" points=\"0,-292.5 0,-328.5 209,-328.5 209,-292.5 0,-292.5\" stroke=\"black\"/>\n",
       "<text font-family=\"Times New Roman,serif\" font-size=\"14.00\" text-anchor=\"middle\" x=\"104.5\" y=\"-306.8\">max_pooling2d_2: MaxPooling2D</text>\n",
       "</g>\n",
       "<!-- 2234416598880&#45;&gt;2234478841360 -->\n",
       "<g class=\"edge\" id=\"edge2\"><title>2234416598880-&gt;2234478841360</title>\n",
       "<path d=\"M104.5,-365.313C104.5,-357.289 104.5,-347.547 104.5,-338.569\" fill=\"none\" stroke=\"black\"/>\n",
       "<polygon fill=\"black\" points=\"108,-338.529 104.5,-328.529 101,-338.529 108,-338.529\" stroke=\"black\"/>\n",
       "</g>\n",
       "<!-- 2234416615720 -->\n",
       "<g class=\"node\" id=\"node3\"><title>2234416615720</title>\n",
       "<polygon fill=\"none\" points=\"50,-219.5 50,-255.5 159,-255.5 159,-219.5 50,-219.5\" stroke=\"black\"/>\n",
       "<text font-family=\"Times New Roman,serif\" font-size=\"14.00\" text-anchor=\"middle\" x=\"104.5\" y=\"-233.8\">flatten_2: Flatten</text>\n",
       "</g>\n",
       "<!-- 2234478841360&#45;&gt;2234416615720 -->\n",
       "<g class=\"edge\" id=\"edge3\"><title>2234478841360-&gt;2234416615720</title>\n",
       "<path d=\"M104.5,-292.313C104.5,-284.289 104.5,-274.547 104.5,-265.569\" fill=\"none\" stroke=\"black\"/>\n",
       "<polygon fill=\"black\" points=\"108,-265.529 104.5,-255.529 101,-265.529 108,-265.529\" stroke=\"black\"/>\n",
       "</g>\n",
       "<!-- 2234416618688 -->\n",
       "<g class=\"node\" id=\"node4\"><title>2234416618688</title>\n",
       "<polygon fill=\"none\" points=\"52.5,-146.5 52.5,-182.5 156.5,-182.5 156.5,-146.5 52.5,-146.5\" stroke=\"black\"/>\n",
       "<text font-family=\"Times New Roman,serif\" font-size=\"14.00\" text-anchor=\"middle\" x=\"104.5\" y=\"-160.8\">dense_3: Dense</text>\n",
       "</g>\n",
       "<!-- 2234416615720&#45;&gt;2234416618688 -->\n",
       "<g class=\"edge\" id=\"edge4\"><title>2234416615720-&gt;2234416618688</title>\n",
       "<path d=\"M104.5,-219.313C104.5,-211.289 104.5,-201.547 104.5,-192.569\" fill=\"none\" stroke=\"black\"/>\n",
       "<polygon fill=\"black\" points=\"108,-192.529 104.5,-182.529 101,-192.529 108,-192.529\" stroke=\"black\"/>\n",
       "</g>\n",
       "<!-- 2234416618576 -->\n",
       "<g class=\"node\" id=\"node5\"><title>2234416618576</title>\n",
       "<polygon fill=\"none\" points=\"52.5,-73.5 52.5,-109.5 156.5,-109.5 156.5,-73.5 52.5,-73.5\" stroke=\"black\"/>\n",
       "<text font-family=\"Times New Roman,serif\" font-size=\"14.00\" text-anchor=\"middle\" x=\"104.5\" y=\"-87.8\">dense_4: Dense</text>\n",
       "</g>\n",
       "<!-- 2234416618688&#45;&gt;2234416618576 -->\n",
       "<g class=\"edge\" id=\"edge5\"><title>2234416618688-&gt;2234416618576</title>\n",
       "<path d=\"M104.5,-146.313C104.5,-138.289 104.5,-128.547 104.5,-119.569\" fill=\"none\" stroke=\"black\"/>\n",
       "<polygon fill=\"black\" points=\"108,-119.529 104.5,-109.529 101,-119.529 108,-119.529\" stroke=\"black\"/>\n",
       "</g>\n",
       "<!-- 2234416595016 -->\n",
       "<g class=\"node\" id=\"node6\"><title>2234416595016</title>\n",
       "<polygon fill=\"none\" points=\"30.5,-0.5 30.5,-36.5 178.5,-36.5 178.5,-0.5 30.5,-0.5\" stroke=\"black\"/>\n",
       "<text font-family=\"Times New Roman,serif\" font-size=\"14.00\" text-anchor=\"middle\" x=\"104.5\" y=\"-14.8\">activation_2: Activation</text>\n",
       "</g>\n",
       "<!-- 2234416618576&#45;&gt;2234416595016 -->\n",
       "<g class=\"edge\" id=\"edge6\"><title>2234416618576-&gt;2234416595016</title>\n",
       "<path d=\"M104.5,-73.3129C104.5,-65.2895 104.5,-55.5475 104.5,-46.5691\" fill=\"none\" stroke=\"black\"/>\n",
       "<polygon fill=\"black\" points=\"108,-46.5288 104.5,-36.5288 101,-46.5289 108,-46.5288\" stroke=\"black\"/>\n",
       "</g>\n",
       "<!-- 2234416521904 -->\n",
       "<g class=\"node\" id=\"node7\"><title>2234416521904</title>\n",
       "<polygon fill=\"none\" points=\"52.5,-438.5 52.5,-474.5 156.5,-474.5 156.5,-438.5 52.5,-438.5\" stroke=\"black\"/>\n",
       "<text font-family=\"Times New Roman,serif\" font-size=\"14.00\" text-anchor=\"middle\" x=\"104.5\" y=\"-452.8\">2234416521904</text>\n",
       "</g>\n",
       "<!-- 2234416521904&#45;&gt;2234416598880 -->\n",
       "<g class=\"edge\" id=\"edge1\"><title>2234416521904-&gt;2234416598880</title>\n",
       "<path d=\"M104.5,-438.313C104.5,-430.289 104.5,-420.547 104.5,-411.569\" fill=\"none\" stroke=\"black\"/>\n",
       "<polygon fill=\"black\" points=\"108,-411.529 104.5,-401.529 101,-411.529 108,-411.529\" stroke=\"black\"/>\n",
       "</g>\n",
       "</g>\n",
       "</svg>"
      ],
      "text/plain": [
       "<IPython.core.display.SVG object>"
      ]
     },
     "execution_count": 17,
     "metadata": {},
     "output_type": "execute_result"
    }
   ],
   "source": [
    "#Plot\n",
    "from keras.utils import plot_model\n",
    "from IPython.display import SVG\n",
    "from keras.utils.vis_utils import model_to_dot\n",
    "\n",
    "plot_model(classifier_will, to_file='model.pdf')\n",
    "SVG(model_to_dot(classifier_will).create(prog='dot', format='svg'))"
   ]
  },
  {
   "cell_type": "code",
   "execution_count": 18,
   "metadata": {},
   "outputs": [
    {
     "name": "stdout",
     "output_type": "stream",
     "text": [
      "<keras.engine.sequential.Sequential object at 0x000002084B701978>\n"
     ]
    }
   ],
   "source": [
    "#Model Save\n",
    "\n",
    "classifier_will.save('my_model_williams_NEW.h5')  # creates a HDF5 file 'my_model.h5'\n",
    "#del classifier  # deletes the existing model\n",
    "\n",
    "# returns a compiled model\n",
    "# identical to the previous one\n",
    "classifier2_will = load_model('williams.h5')\n",
    "print(classifier2_will)\n"
   ]
  },
  {
   "cell_type": "code",
   "execution_count": 19,
   "metadata": {},
   "outputs": [
    {
     "name": "stdout",
     "output_type": "stream",
     "text": [
      "<bound method Conv2D.get_config of <keras.layers.convolutional.Conv2D object at 0x000002084B674080>>\n",
      "loss: 99.75%\n",
      "acc: 99.75%\n",
      "[[4394    0]\n",
      " [  11    6]]\n",
      "1.0\n",
      "0.35294117647058826\n",
      "0.5217391304347826\n",
      "0.9859154929577464\n"
     ]
    }
   ],
   "source": [
    "#Model Load\n",
    "print(classifier2_will.layers[0].get_config)\n",
    "# evaluate loaded model on test data \n",
    "# Define X_test & Y_test data first\n",
    "classifier2_will.compile(loss='binary_crossentropy', optimizer='adam', metrics=['accuracy'])\n",
    "score = classifier2_will.evaluate(x_test_williams, y_test_williams, verbose=0)\n",
    "\n",
    "print (\"%s: %.2f%%\" % (classifier2_will.metrics_names[0], score[1]*100))\n",
    "print (\"%s: %.2f%%\" % (classifier2_will.metrics_names[1], score[1]*100))\n",
    "y_pred_williams = classifier2_will.predict_classes(x_test_williams)\n",
    "x_pred_williams = classifier2_will.predict_classes(x_train_williams)\n",
    "print(confusion_matrix(y_test_williams, y_pred_williams))\n",
    "print(precision_score(y_test_williams, y_pred_williams))\n",
    "print(recall_score(y_test_williams, y_pred_williams))\n",
    "print(f1_score(y_test_williams, y_pred_williams))\n",
    "print(f1_score(y_train_williams,x_pred_williams))"
   ]
  },
  {
   "cell_type": "code",
   "execution_count": 20,
   "metadata": {},
   "outputs": [
    {
     "data": {
      "image/svg+xml": [
       "<svg height=\"483pt\" viewBox=\"0.00 0.00 217.00 483.00\" width=\"217pt\" xmlns=\"http://www.w3.org/2000/svg\" xmlns:xlink=\"http://www.w3.org/1999/xlink\">\n",
       "<g class=\"graph\" id=\"graph0\" transform=\"scale(1 1) rotate(0) translate(4 479)\">\n",
       "<title>G</title>\n",
       "<polygon fill=\"white\" points=\"-4,4 -4,-479 213,-479 213,4 -4,4\" stroke=\"none\"/>\n",
       "<!-- 2234648051840 -->\n",
       "<g class=\"node\" id=\"node1\"><title>2234648051840</title>\n",
       "<polygon fill=\"none\" points=\"41,-365.5 41,-401.5 168,-401.5 168,-365.5 41,-365.5\" stroke=\"black\"/>\n",
       "<text font-family=\"Times New Roman,serif\" font-size=\"14.00\" text-anchor=\"middle\" x=\"104.5\" y=\"-379.8\">conv2d_6: Conv2D</text>\n",
       "</g>\n",
       "<!-- 2234648053072 -->\n",
       "<g class=\"node\" id=\"node2\"><title>2234648053072</title>\n",
       "<polygon fill=\"none\" points=\"0,-292.5 0,-328.5 209,-328.5 209,-292.5 0,-292.5\" stroke=\"black\"/>\n",
       "<text font-family=\"Times New Roman,serif\" font-size=\"14.00\" text-anchor=\"middle\" x=\"104.5\" y=\"-306.8\">max_pooling2d_6: MaxPooling2D</text>\n",
       "</g>\n",
       "<!-- 2234648051840&#45;&gt;2234648053072 -->\n",
       "<g class=\"edge\" id=\"edge2\"><title>2234648051840-&gt;2234648053072</title>\n",
       "<path d=\"M104.5,-365.313C104.5,-357.289 104.5,-347.547 104.5,-338.569\" fill=\"none\" stroke=\"black\"/>\n",
       "<polygon fill=\"black\" points=\"108,-338.529 104.5,-328.529 101,-338.529 108,-338.529\" stroke=\"black\"/>\n",
       "</g>\n",
       "<!-- 2234648052232 -->\n",
       "<g class=\"node\" id=\"node3\"><title>2234648052232</title>\n",
       "<polygon fill=\"none\" points=\"50,-219.5 50,-255.5 159,-255.5 159,-219.5 50,-219.5\" stroke=\"black\"/>\n",
       "<text font-family=\"Times New Roman,serif\" font-size=\"14.00\" text-anchor=\"middle\" x=\"104.5\" y=\"-233.8\">flatten_6: Flatten</text>\n",
       "</g>\n",
       "<!-- 2234648053072&#45;&gt;2234648052232 -->\n",
       "<g class=\"edge\" id=\"edge3\"><title>2234648053072-&gt;2234648052232</title>\n",
       "<path d=\"M104.5,-292.313C104.5,-284.289 104.5,-274.547 104.5,-265.569\" fill=\"none\" stroke=\"black\"/>\n",
       "<polygon fill=\"black\" points=\"108,-265.529 104.5,-255.529 101,-265.529 108,-265.529\" stroke=\"black\"/>\n",
       "</g>\n",
       "<!-- 2234648054584 -->\n",
       "<g class=\"node\" id=\"node4\"><title>2234648054584</title>\n",
       "<polygon fill=\"none\" points=\"49,-146.5 49,-182.5 160,-182.5 160,-146.5 49,-146.5\" stroke=\"black\"/>\n",
       "<text font-family=\"Times New Roman,serif\" font-size=\"14.00\" text-anchor=\"middle\" x=\"104.5\" y=\"-160.8\">dense_11: Dense</text>\n",
       "</g>\n",
       "<!-- 2234648052232&#45;&gt;2234648054584 -->\n",
       "<g class=\"edge\" id=\"edge4\"><title>2234648052232-&gt;2234648054584</title>\n",
       "<path d=\"M104.5,-219.313C104.5,-211.289 104.5,-201.547 104.5,-192.569\" fill=\"none\" stroke=\"black\"/>\n",
       "<polygon fill=\"black\" points=\"108,-192.529 104.5,-182.529 101,-192.529 108,-192.529\" stroke=\"black\"/>\n",
       "</g>\n",
       "<!-- 2234648781824 -->\n",
       "<g class=\"node\" id=\"node5\"><title>2234648781824</title>\n",
       "<polygon fill=\"none\" points=\"49,-73.5 49,-109.5 160,-109.5 160,-73.5 49,-73.5\" stroke=\"black\"/>\n",
       "<text font-family=\"Times New Roman,serif\" font-size=\"14.00\" text-anchor=\"middle\" x=\"104.5\" y=\"-87.8\">dense_12: Dense</text>\n",
       "</g>\n",
       "<!-- 2234648054584&#45;&gt;2234648781824 -->\n",
       "<g class=\"edge\" id=\"edge5\"><title>2234648054584-&gt;2234648781824</title>\n",
       "<path d=\"M104.5,-146.313C104.5,-138.289 104.5,-128.547 104.5,-119.569\" fill=\"none\" stroke=\"black\"/>\n",
       "<polygon fill=\"black\" points=\"108,-119.529 104.5,-109.529 101,-119.529 108,-119.529\" stroke=\"black\"/>\n",
       "</g>\n",
       "<!-- 2234648102392 -->\n",
       "<g class=\"node\" id=\"node6\"><title>2234648102392</title>\n",
       "<polygon fill=\"none\" points=\"30.5,-0.5 30.5,-36.5 178.5,-36.5 178.5,-0.5 30.5,-0.5\" stroke=\"black\"/>\n",
       "<text font-family=\"Times New Roman,serif\" font-size=\"14.00\" text-anchor=\"middle\" x=\"104.5\" y=\"-14.8\">activation_6: Activation</text>\n",
       "</g>\n",
       "<!-- 2234648781824&#45;&gt;2234648102392 -->\n",
       "<g class=\"edge\" id=\"edge6\"><title>2234648781824-&gt;2234648102392</title>\n",
       "<path d=\"M104.5,-73.3129C104.5,-65.2895 104.5,-55.5475 104.5,-46.5691\" fill=\"none\" stroke=\"black\"/>\n",
       "<polygon fill=\"black\" points=\"108,-46.5288 104.5,-36.5288 101,-46.5289 108,-46.5288\" stroke=\"black\"/>\n",
       "</g>\n",
       "<!-- 2234648051896 -->\n",
       "<g class=\"node\" id=\"node7\"><title>2234648051896</title>\n",
       "<polygon fill=\"none\" points=\"52.5,-438.5 52.5,-474.5 156.5,-474.5 156.5,-438.5 52.5,-438.5\" stroke=\"black\"/>\n",
       "<text font-family=\"Times New Roman,serif\" font-size=\"14.00\" text-anchor=\"middle\" x=\"104.5\" y=\"-452.8\">2234648051896</text>\n",
       "</g>\n",
       "<!-- 2234648051896&#45;&gt;2234648051840 -->\n",
       "<g class=\"edge\" id=\"edge1\"><title>2234648051896-&gt;2234648051840</title>\n",
       "<path d=\"M104.5,-438.313C104.5,-430.289 104.5,-420.547 104.5,-411.569\" fill=\"none\" stroke=\"black\"/>\n",
       "<polygon fill=\"black\" points=\"108,-411.529 104.5,-401.529 101,-411.529 108,-411.529\" stroke=\"black\"/>\n",
       "</g>\n",
       "</g>\n",
       "</svg>"
      ],
      "text/plain": [
       "<IPython.core.display.SVG object>"
      ]
     },
     "execution_count": 20,
     "metadata": {},
     "output_type": "execute_result"
    }
   ],
   "source": [
    "#Plot loaded model\n",
    "from keras.utils import plot_model\n",
    "from IPython.display import SVG\n",
    "from keras.utils.vis_utils import model_to_dot\n",
    "\n",
    "plot_model(classifier2_will, to_file='model.pdf')\n",
    "SVG(model_to_dot(classifier2_will).create(prog='dot', format='svg'))"
   ]
  },
  {
   "cell_type": "code",
   "execution_count": 21,
   "metadata": {},
   "outputs": [
    {
     "name": "stdout",
     "output_type": "stream",
     "text": [
      "_________________________________________________________________\n",
      "Layer (type)                 Output Shape              Param #   \n",
      "=================================================================\n",
      "conv2d_6 (Conv2D)            (None, 62, 62, 8)         80        \n",
      "_________________________________________________________________\n",
      "max_pooling2d_6 (MaxPooling2 (None, 31, 31, 8)         0         \n",
      "_________________________________________________________________\n",
      "flatten_6 (Flatten)          (None, 7688)              0         \n",
      "_________________________________________________________________\n",
      "dense_11 (Dense)             (None, 16)                123024    \n",
      "_________________________________________________________________\n",
      "dense_12 (Dense)             (None, 1)                 17        \n",
      "_________________________________________________________________\n",
      "activation_6 (Activation)    (None, 1)                 0         \n",
      "=================================================================\n",
      "Total params: 123,121\n",
      "Trainable params: 123,121\n",
      "Non-trainable params: 0\n",
      "_________________________________________________________________\n"
     ]
    }
   ],
   "source": [
    "classifier2_will.summary()"
   ]
  }
 ],
 "metadata": {
  "kernelspec": {
   "display_name": "Python 3",
   "language": "python",
   "name": "python3"
  },
  "language_info": {
   "codemirror_mode": {
    "name": "ipython",
    "version": 3
   },
   "file_extension": ".py",
   "mimetype": "text/x-python",
   "name": "python",
   "nbconvert_exporter": "python",
   "pygments_lexer": "ipython3",
   "version": "3.6.5"
  }
 },
 "nbformat": 4,
 "nbformat_minor": 2
}
