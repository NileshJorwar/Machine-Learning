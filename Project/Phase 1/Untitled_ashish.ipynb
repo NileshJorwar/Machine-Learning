{
 "cells": [
  {
   "cell_type": "code",
   "execution_count": 1,
   "metadata": {},
   "outputs": [],
   "source": [
    "import pandas as pd\n",
    "import numpy as np\n",
    "from sklearn.neighbors import KNeighborsClassifier\n",
    "from sklearn.model_selection import cross_validate, StratifiedKFold\n",
    "from sklearn.svm import SVC"
   ]
  },
  {
   "cell_type": "code",
   "execution_count": null,
   "metadata": {},
   "outputs": [],
   "source": [
    "\"\"\"\n",
    "    Phase-1: k-nn & SVM\n",
    "        3-Fold KNN\n",
    "        Using Cross-Validate:\n",
    "            Precision\n",
    "            Recal\n",
    "            F1\n",
    "            Fit-Time\n",
    "            Score-Time\n",
    "\"\"\""
   ]
  },
  {
   "cell_type": "code",
   "execution_count": 3,
   "metadata": {},
   "outputs": [],
   "source": [
    "X = pd.read_csv(\"data/X.csv\", sep=\" \", header=None, dtype=float)\n",
    "X = X.values"
   ]
  },
  {
   "cell_type": "code",
   "execution_count": 4,
   "metadata": {},
   "outputs": [],
   "source": [
    "y = pd.read_csv(\"data/y_bush_vs_others.csv\", header=None)\n",
    "y_bush = y.values.ravel()\n",
    "y = pd.read_csv(\"data/y_williams_vs_others.csv\", header=None)\n",
    "y_williams = y.values.ravel()"
   ]
  },
  {
   "cell_type": "code",
   "execution_count": 5,
   "metadata": {},
   "outputs": [
    {
     "data": {
      "text/plain": [
       "(13233, 4096)"
      ]
     },
     "execution_count": 5,
     "metadata": {},
     "output_type": "execute_result"
    }
   ],
   "source": [
    "X.shape"
   ]
  },
  {
   "cell_type": "code",
   "execution_count": 6,
   "metadata": {},
   "outputs": [
    {
     "data": {
      "text/plain": [
       "530"
      ]
     },
     "execution_count": 6,
     "metadata": {},
     "output_type": "execute_result"
    }
   ],
   "source": [
    "np.sum(y_bush)"
   ]
  },
  {
   "cell_type": "code",
   "execution_count": 7,
   "metadata": {},
   "outputs": [
    {
     "data": {
      "text/plain": [
       "52"
      ]
     },
     "execution_count": 7,
     "metadata": {},
     "output_type": "execute_result"
    }
   ],
   "source": [
    "np.sum(y_williams)"
   ]
  },
  {
   "cell_type": "code",
   "execution_count": 8,
   "metadata": {},
   "outputs": [
    {
     "data": {
      "text/plain": [
       "(13233,)"
      ]
     },
     "execution_count": 8,
     "metadata": {},
     "output_type": "execute_result"
    }
   ],
   "source": [
    "y_bush.shape"
   ]
  },
  {
   "cell_type": "code",
   "execution_count": 9,
   "metadata": {},
   "outputs": [
    {
     "data": {
      "text/plain": [
       "(13233,)"
      ]
     },
     "execution_count": 9,
     "metadata": {},
     "output_type": "execute_result"
    }
   ],
   "source": [
    "y_williams.shape"
   ]
  },
  {
   "cell_type": "code",
   "execution_count": 31,
   "metadata": {},
   "outputs": [],
   "source": [
    "knn = KNeighborsClassifier(n_neighbors=3)"
   ]
  },
  {
   "cell_type": "code",
   "execution_count": 32,
   "metadata": {},
   "outputs": [],
   "source": [
    "stratified_cv_results_knn = cross_validate(knn, X, y_bush, cv=StratifiedKFold(n_splits=3, shuffle=True, random_state=int('5230')),\n",
    "                                        scoring=('precision','recall','f1'), return_train_score=False, n_jobs=-1)"
   ]
  },
  {
   "cell_type": "code",
   "execution_count": 33,
   "metadata": {},
   "outputs": [
    {
     "data": {
      "text/plain": [
       "{'fit_time': array([14.07800794, 14.25460315, 14.01615739]),\n",
       " 'score_time': array([1317.07241297, 1321.46224904, 1319.11155534]),\n",
       " 'test_precision': array([0.36363636, 0.14285714, 0.15151515]),\n",
       " 'test_recall': array([0.06779661, 0.02259887, 0.02840909]),\n",
       " 'test_f1': array([0.11428571, 0.03902439, 0.04784689])}"
      ]
     },
     "execution_count": 33,
     "metadata": {},
     "output_type": "execute_result"
    }
   ],
   "source": [
    "stratified_cv_results_knn"
   ]
  },
  {
   "cell_type": "code",
   "execution_count": 25,
   "metadata": {},
   "outputs": [],
   "source": [
    "svc = SVC(C=1e3, gamma=0.0001)"
   ]
  },
  {
   "cell_type": "code",
   "execution_count": 26,
   "metadata": {},
   "outputs": [],
   "source": [
    "stratified_cv_results_svc = cross_validate(svc, X, y_bush, cv=StratifiedKFold(n_splits=3, shuffle=True, random_state=int('5230')),\n",
    "                                        scoring=('precision','recall','f1'), return_train_score=False, n_jobs=-1)"
   ]
  },
  {
   "cell_type": "code",
   "execution_count": 39,
   "metadata": {},
   "outputs": [
    {
     "ename": "NameError",
     "evalue": "name 'stratified_cv_results_svc' is not defined",
     "output_type": "error",
     "traceback": [
      "\u001b[1;31m---------------------------------------------------------------------------\u001b[0m",
      "\u001b[1;31mNameError\u001b[0m                                 Traceback (most recent call last)",
      "\u001b[1;32m<ipython-input-39-746728fc357b>\u001b[0m in \u001b[0;36m<module>\u001b[1;34m()\u001b[0m\n\u001b[1;32m----> 1\u001b[1;33m \u001b[0mstratified_cv_results_svc\u001b[0m\u001b[1;33m\u001b[0m\u001b[0m\n\u001b[0m",
      "\u001b[1;31mNameError\u001b[0m: name 'stratified_cv_results_svc' is not defined"
     ]
    }
   ],
   "source": [
    "stratified_cv_results_svc"
   ]
  },
  {
   "cell_type": "code",
   "execution_count": null,
   "metadata": {},
   "outputs": [],
   "source": [
    "import pickle\n",
    "pickle.dump((stratified_cv_results_knn, stratified_cv_results_svc),open('res.pkl','wb'))"
   ]
  },
  {
   "cell_type": "code",
   "execution_count": 42,
   "metadata": {},
   "outputs": [],
   "source": [
    "C_grid = [1e3, 5e3, 1e4, 5e4, 1e5]\n",
    "gamma_grid = [0.0001, 0.0005, 0.001, 0.005, 0.01, 0.1]\n",
    "hm_svc = {}"
   ]
  },
  {
   "cell_type": "code",
   "execution_count": null,
   "metadata": {},
   "outputs": [],
   "source": [
    "for i in C_grid:\n",
    "    for j in gamma_grid:\n",
    "        s = str(i) + \"__\" + str(j)\n",
    "        svc = SVC(C=i, gamma=j)\n",
    "        stratified_cv_results_svc = cross_validate(svc, X, y_bush, cv=StratifiedKFold(n_splits=3, shuffle=True, random_state=int('5230')),\n",
    "                                        scoring=('precision','recall','f1'), return_train_score=False, n_jobs=-1)\n",
    "        hm_svc[s] = stratified_cv_results_svc"
   ]
  },
  {
   "cell_type": "code",
   "execution_count": null,
   "metadata": {},
   "outputs": [],
   "source": []
  },
  {
   "cell_type": "code",
   "execution_count": 22,
   "metadata": {},
   "outputs": [
    {
     "name": "stdout",
     "output_type": "stream",
     "text": [
      "0.04627987132353491\n",
      "0.04627987132353491\n",
      "(1, 64, 64)\n",
      "[[[0.10635443 0.09975202 0.11191927 ... 0.10587563 0.10981539 0.11615669]\n",
      "  [0.10215907 0.09380114 0.10587162 ... 0.11995357 0.11991167 0.12292239]\n",
      "  [0.09190884 0.09576653 0.09597418 ... 0.13914043 0.13354873 0.14135496]\n",
      "  ...\n",
      "  [0.12394142 0.12649485 0.0633237  ... 0.11941977 0.10105848 0.10264012]\n",
      "  [0.12405373 0.12356353 0.11986695 ... 0.11140404 0.11127479 0.10246083]\n",
      "  [0.05743984 0.05721772 0.0587448  ... 0.04983379 0.05402631 0.04627987]]]\n"
     ]
    }
   ],
   "source": [
    "with open('X.csv', 'r') as csvFile:\n",
    "    reader = csv.reader(csvFile, delimiter =\" \")\n",
    "    i = 0\n",
    "    arr = np.zeros((1,64*64))\n",
    "    X = np.zeros((1,64,64))\n",
    "    for row in reader:\n",
    "        #print(row)\n",
    "        arr[0] = row\n",
    "        for j in range(64):\n",
    "            for k in range(64):\n",
    "                X[i][j][k] = arr[i][(j*64)+k]\n",
    "        #print(row.shape)\n",
    "        i += 1\n",
    "        if i == 1:\n",
    "            break\n",
    "\n",
    "csvFile.close()\n",
    "print(arr[0][-1])\n",
    "print(X[0][63][63])\n",
    "print (X.shape)\n",
    "print(X)"
   ]
  }
 ],
 "metadata": {
  "kernelspec": {
   "display_name": "Python 3",
   "language": "python",
   "name": "python3"
  },
  "language_info": {
   "codemirror_mode": {
    "name": "ipython",
    "version": 3
   },
   "file_extension": ".py",
   "mimetype": "text/x-python",
   "name": "python",
   "nbconvert_exporter": "python",
   "pygments_lexer": "ipython3",
   "version": "3.6.5"
  }
 },
 "nbformat": 4,
 "nbformat_minor": 2
}
