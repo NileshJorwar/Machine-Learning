{
 "cells": [
  {
   "cell_type": "code",
   "execution_count": 1,
   "metadata": {},
   "outputs": [],
   "source": [
    "import numpy as np"
   ]
  },
  {
   "cell_type": "code",
   "execution_count": 7,
   "metadata": {},
   "outputs": [],
   "source": [
    "def perceptron(w, x):\n",
    "    return np.sign(w[0]+ np.dot(w[1:], x))"
   ]
  },
  {
   "cell_type": "code",
   "execution_count": 9,
   "metadata": {},
   "outputs": [],
   "source": [
    "def solve_for_w(X, y):\n",
    "    ni, nf = X.shape\n",
    "    w=np.zeros(nf+1)\n",
    "    max_iter = 2\n",
    "    lr = 1\n",
    "    for it in range(max_iter):\n",
    "        print(\"\\nIteration\", it)\n",
    "        print(\"Weights\", w)\n",
    "        for obj in range(ni):\n",
    "            print(\"Object %s, label: %d\" %(X[obj], y[obj]))\n",
    "            p = perceptron(w, X[obj])\n",
    "            print(\"Prediction\", p)\n",
    "            if p == y[obj]:\n",
    "                print(\"Prediction is correct\")\n",
    "            else:\n",
    "                print(\"*Prediction is incorrect*\")\n",
    "                delta_weights = np.append(lr*y[obj], lr*X[obj]*y[obj]) \n",
    "                print(\"Delta\", delta_weights)                \n",
    "                w += delta_weights\n",
    "                print(\"New weights\", w)"
   ]
  },
  {
   "cell_type": "code",
   "execution_count": 10,
   "metadata": {},
   "outputs": [
    {
     "data": {
      "text/plain": [
       "array([1, 2, 3])"
      ]
     },
     "execution_count": 10,
     "metadata": {},
     "output_type": "execute_result"
    }
   ],
   "source": [
    "np.append(1, np.array([2, 3]))"
   ]
  },
  {
   "cell_type": "code",
   "execution_count": 12,
   "metadata": {},
   "outputs": [],
   "source": [
    "# AND\n",
    "X = np.array([[-1, -1], [-1, 1], [1, -1], [1, 1]])\n",
    "y = [-1, -1, -1, 1]"
   ]
  },
  {
   "cell_type": "code",
   "execution_count": 13,
   "metadata": {},
   "outputs": [
    {
     "name": "stdout",
     "output_type": "stream",
     "text": [
      "\n",
      "Iteration 0\n",
      "Weights [0. 0. 0.]\n",
      "Object [-1 -1], label: -1\n",
      "Prediction 0.0\n",
      "*Prediction is incorrect*\n",
      "Delta [-1  1  1]\n",
      "New weights [-1.  1.  1.]\n",
      "Object [-1  1], label: -1\n",
      "Prediction -1.0\n",
      "Prediction is correct\n",
      "Object [ 1 -1], label: -1\n",
      "Prediction -1.0\n",
      "Prediction is correct\n",
      "Object [1 1], label: 1\n",
      "Prediction 1.0\n",
      "Prediction is correct\n",
      "\n",
      "Iteration 1\n",
      "Weights [-1.  1.  1.]\n",
      "Object [-1 -1], label: -1\n",
      "Prediction -1.0\n",
      "Prediction is correct\n",
      "Object [-1  1], label: -1\n",
      "Prediction -1.0\n",
      "Prediction is correct\n",
      "Object [ 1 -1], label: -1\n",
      "Prediction -1.0\n",
      "Prediction is correct\n",
      "Object [1 1], label: 1\n",
      "Prediction 1.0\n",
      "Prediction is correct\n"
     ]
    }
   ],
   "source": [
    "solve_for_w(X, y)"
   ]
  },
  {
   "cell_type": "code",
   "execution_count": 14,
   "metadata": {},
   "outputs": [],
   "source": [
    "# OR\n",
    "X = np.array([[-1, -1], [-1, 1], [1, -1], [1, 1]])\n",
    "y = [-1, 1, 1, 1]"
   ]
  },
  {
   "cell_type": "code",
   "execution_count": 15,
   "metadata": {},
   "outputs": [
    {
     "name": "stdout",
     "output_type": "stream",
     "text": [
      "\n",
      "Iteration 0\n",
      "Weights [0. 0. 0.]\n",
      "Object [-1 -1], label: -1\n",
      "Prediction 0.0\n",
      "*Prediction is incorrect*\n",
      "Delta [-1  1  1]\n",
      "New weights [-1.  1.  1.]\n",
      "Object [-1  1], label: 1\n",
      "Prediction -1.0\n",
      "*Prediction is incorrect*\n",
      "Delta [ 1 -1  1]\n",
      "New weights [0. 0. 2.]\n",
      "Object [ 1 -1], label: 1\n",
      "Prediction -1.0\n",
      "*Prediction is incorrect*\n",
      "Delta [ 1  1 -1]\n",
      "New weights [1. 1. 1.]\n",
      "Object [1 1], label: 1\n",
      "Prediction 1.0\n",
      "Prediction is correct\n",
      "\n",
      "Iteration 1\n",
      "Weights [1. 1. 1.]\n",
      "Object [-1 -1], label: -1\n",
      "Prediction -1.0\n",
      "Prediction is correct\n",
      "Object [-1  1], label: 1\n",
      "Prediction 1.0\n",
      "Prediction is correct\n",
      "Object [ 1 -1], label: 1\n",
      "Prediction 1.0\n",
      "Prediction is correct\n",
      "Object [1 1], label: 1\n",
      "Prediction 1.0\n",
      "Prediction is correct\n"
     ]
    }
   ],
   "source": [
    "solve_for_w(X, y)"
   ]
  },
  {
   "cell_type": "code",
   "execution_count": 16,
   "metadata": {},
   "outputs": [],
   "source": [
    "# XOR\n",
    "X = np.array([[-1, -1], [-1, 1], [1, -1], [1, 1]])\n",
    "y = [1, -1, -1, 1]"
   ]
  },
  {
   "cell_type": "code",
   "execution_count": 17,
   "metadata": {},
   "outputs": [
    {
     "name": "stdout",
     "output_type": "stream",
     "text": [
      "\n",
      "Iteration 0\n",
      "Weights [0. 0. 0.]\n",
      "Object [-1 -1], label: 1\n",
      "Prediction 0.0\n",
      "*Prediction is incorrect*\n",
      "Delta [ 1 -1 -1]\n",
      "New weights [ 1. -1. -1.]\n",
      "Object [-1  1], label: -1\n",
      "Prediction 1.0\n",
      "*Prediction is incorrect*\n",
      "Delta [-1  1 -1]\n",
      "New weights [ 0.  0. -2.]\n",
      "Object [ 1 -1], label: -1\n",
      "Prediction 1.0\n",
      "*Prediction is incorrect*\n",
      "Delta [-1 -1  1]\n",
      "New weights [-1. -1. -1.]\n",
      "Object [1 1], label: 1\n",
      "Prediction -1.0\n",
      "*Prediction is incorrect*\n",
      "Delta [1 1 1]\n",
      "New weights [0. 0. 0.]\n",
      "\n",
      "Iteration 1\n",
      "Weights [0. 0. 0.]\n",
      "Object [-1 -1], label: 1\n",
      "Prediction 0.0\n",
      "*Prediction is incorrect*\n",
      "Delta [ 1 -1 -1]\n",
      "New weights [ 1. -1. -1.]\n",
      "Object [-1  1], label: -1\n",
      "Prediction 1.0\n",
      "*Prediction is incorrect*\n",
      "Delta [-1  1 -1]\n",
      "New weights [ 0.  0. -2.]\n",
      "Object [ 1 -1], label: -1\n",
      "Prediction 1.0\n",
      "*Prediction is incorrect*\n",
      "Delta [-1 -1  1]\n",
      "New weights [-1. -1. -1.]\n",
      "Object [1 1], label: 1\n",
      "Prediction -1.0\n",
      "*Prediction is incorrect*\n",
      "Delta [1 1 1]\n",
      "New weights [0. 0. 0.]\n"
     ]
    }
   ],
   "source": [
    "solve_for_w(X, y)"
   ]
  },
  {
   "cell_type": "code",
   "execution_count": 19,
   "metadata": {},
   "outputs": [],
   "source": [
    "%matplotlib inline\n",
    "import matplotlib.pyplot as plt\n",
    "from matplotlib import pylab\n",
    "from matplotlib import colors\n",
    "pylab.rcParams['figure.figsize'] = (10.0, 8.0)"
   ]
  },
  {
   "cell_type": "code",
   "execution_count": 20,
   "metadata": {},
   "outputs": [],
   "source": [
    "cmap = colors.LinearSegmentedColormap(\n",
    "    'red_blue_classes',\n",
    "    {'red': [(0, 1, 1), (1, 0.7, 0.7)],\n",
    "     'green': [(0, 0.7, 0.7), (1, 0.7, 0.7)],\n",
    "     'blue': [(0, 0.7, 0.7), (1, 1, 1)]})\n",
    "plt.cm.register_cmap(cmap=cmap)"
   ]
  },
  {
   "cell_type": "code",
   "execution_count": 21,
   "metadata": {},
   "outputs": [],
   "source": [
    "nx = ny = 200\n",
    "x_min = y_min = -1.3\n",
    "x_max = y_max = 1.3\n",
    "xx, yy = np.meshgrid(np.linspace(x_min, x_max, nx), np.linspace(y_min, y_max, ny))"
   ]
  },
  {
   "cell_type": "code",
   "execution_count": 22,
   "metadata": {},
   "outputs": [],
   "source": [
    "D=np.c_[xx.ravel(), yy.ravel()]"
   ]
  },
  {
   "cell_type": "code",
   "execution_count": 75,
   "metadata": {},
   "outputs": [
    {
     "data": {
      "text/plain": [
       "<matplotlib.contour.QuadContourSet at 0x16236bd4320>"
      ]
     },
     "execution_count": 75,
     "metadata": {},
     "output_type": "execute_result"
    },
    {
     "data": {
      "image/png": "[encoded data removed]",
      "text/plain": [
       "<Figure size 720x576 with 1 Axes>"
      ]
     },
     "metadata": {},
     "output_type": "display_data"
    }
   ],
   "source": [
    "#AND\n",
    "plt.plot([-1], [-1], 'o', color='red', markersize=20)\n",
    "plt.plot([-1], [1], 'o', color='red', markersize=20)\n",
    "plt.plot([1], [-1], 'o', color='red', markersize=20)\n",
    "plt.plot([1], [1], 'o', color='blue', markersize=20)\n",
    "w=[-1, 1, 1]\n",
    "p=np.array([perceptron(w, d) for d in D])\n",
    "p=p.reshape(xx.shape)\n",
    "plt.pcolormesh(xx, yy, p, cmap='red_blue_classes',\n",
    "                   norm=colors.Normalize(0., 1.))\n",
    "plt.contour(xx, yy, p, [0.5], linewidths=2., colors='k')"
   ]
  },
  {
   "cell_type": "code",
   "execution_count": 76,
   "metadata": {},
   "outputs": [
    {
     "data": {
      "text/plain": [
       "<matplotlib.contour.QuadContourSet at 0x16236f01ac8>"
      ]
     },
     "execution_count": 76,
     "metadata": {},
     "output_type": "execute_result"
    },
    {
     "data": {
      "image/png": "[encoded data removed]",
      "text/plain": [
       "<Figure size 720x576 with 1 Axes>"
      ]
     },
     "metadata": {},
     "output_type": "display_data"
    }
   ],
   "source": [
    "#OR\n",
    "plt.plot([-1], [-1], 'o', color='red', markersize=20)\n",
    "plt.plot([-1], [1], 'o', color='blue', markersize=20)\n",
    "plt.plot([1], [-1], 'o', color='blue', markersize=20)\n",
    "plt.plot([1], [1], 'o', color='blue', markersize=20)\n",
    "w=[1, 1, 1]\n",
    "p=np.array([perceptron(w, d) for d in D])\n",
    "p=p.reshape(xx.shape)\n",
    "plt.pcolormesh(xx, yy, p, cmap='red_blue_classes',\n",
    "                   norm=colors.Normalize(0., 1.))\n",
    "plt.contour(xx, yy, p, [0.5], linewidths=2., colors='k')"
   ]
  },
  {
   "cell_type": "code",
   "execution_count": 77,
   "metadata": {},
   "outputs": [],
   "source": [
    "def xor(x):\n",
    "    and_weights = [-1, 1, 1]\n",
    "    or_weights = [1, 1, 1]\n",
    "    #xor = (a and not b) or (not a and b)\n",
    "    # z1 = (a and not b)\n",
    "    aAndNotb=np.copy(and_weights)\n",
    "    aAndNotb[2] = -1*aAndNotb[2]\n",
    "    notaAndb=np.copy(and_weights)\n",
    "    notaAndb[1] = -1*aAndNotb[1]\n",
    "    z1 = np.sign(aAndNotb[0]+np.dot(aAndNotb[1:], x))\n",
    "    z2 = np.sign(notaAndb[0]+np.dot(notaAndb[1:], x))\n",
    "    return np.sign(or_weights[0]+or_weights[1]*z1 + or_weights[2]*z2)"
   ]
  },
  {
   "cell_type": "code",
   "execution_count": 78,
   "metadata": {},
   "outputs": [
    {
     "data": {
      "text/plain": [
       "<matplotlib.contour.QuadContourSet at 0x162371b09b0>"
      ]
     },
     "execution_count": 78,
     "metadata": {},
     "output_type": "execute_result"
    },
    {
     "data": {
      "image/png": "[encoded data removed]",
      "text/plain": [
       "<Figure size 720x576 with 1 Axes>"
      ]
     },
     "metadata": {},
     "output_type": "display_data"
    }
   ],
   "source": [
    "#XOR\n",
    "plt.plot([-1], [-1], 'o', color='red', markersize=20)\n",
    "plt.plot([-1], [1], 'o', color='blue', markersize=20)\n",
    "plt.plot([1], [-1], 'o', color='blue', markersize=20)\n",
    "plt.plot([1], [1], 'o', color='red', markersize=20)\n",
    "w=[1, 1, 1]\n",
    "p=np.array([xor(d) for d in D])\n",
    "p=p.reshape(xx.shape)\n",
    "plt.pcolormesh(xx, yy, p, cmap='red_blue_classes',\n",
    "                   norm=colors.Normalize(0., 1.))\n",
    "plt.contour(xx, yy, p, [0.5], linewidths=2., colors='k')"
   ]
  },
  {
   "cell_type": "code",
   "execution_count": null,
   "metadata": {
    "collapsed": true
   },
   "outputs": [],
   "source": []
  }
 ],
 "metadata": {
  "kernelspec": {
   "display_name": "Python 3",
   "language": "python",
   "name": "python3"
  },
  "language_info": {
   "codemirror_mode": {
    "name": "ipython",
    "version": 3
   },
   "file_extension": ".py",
   "mimetype": "text/x-python",
   "name": "python",
   "nbconvert_exporter": "python",
   "pygments_lexer": "ipython3",
   "version": "3.5.4"
  }
 },
 "nbformat": 4,
 "nbformat_minor": 1
}
