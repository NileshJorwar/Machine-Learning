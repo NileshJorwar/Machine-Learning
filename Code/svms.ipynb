{
 "cells": [
  {
   "cell_type": "code",
   "execution_count": 3,
   "metadata": {},
   "outputs": [],
   "source": [
    "%matplotlib inline\n",
    "import numpy as np\n",
    "import cvxopt\n",
    "import matplotlib.pyplot as plt\n",
    "from matplotlib import pylab\n",
    "from matplotlib import colors\n",
    "from sklearn.svm import SVC\n",
    "pylab.rcParams['figure.figsize'] = (10.0, 8.0)\n",
    "pylab.rcParams['contour.negative_linestyle'] = 'solid'"
   ]
  },
  {
   "cell_type": "markdown",
   "metadata": {},
   "source": [
    "# No Kernels"
   ]
  },
  {
   "cell_type": "code",
   "execution_count": 4,
   "metadata": {},
   "outputs": [],
   "source": [
    "X = np.array([[0.5, 2], [1, 1], [1, 3], [3, 1], [3, 3], [3.5, 2]])\n",
    "y = np.array([1, 1., 1., -1., -1., -1.])"
   ]
  },
  {
   "cell_type": "code",
   "execution_count": 6,
   "metadata": {},
   "outputs": [],
   "source": [
    "ni, nf = X.shape\n",
    "X_ = np.matrix(X)\n",
    "P=cvxopt.matrix(np.outer(y,y)*np.array((X_*X_.T)))\n",
    "q=cvxopt.matrix(-1*np.ones(ni))\n",
    "G=cvxopt.matrix(np.diag(-1*np.ones(ni)))\n",
    "h=cvxopt.matrix(np.zeros(ni))\n",
    "A=cvxopt.matrix(y, (1, ni))\n",
    "b=cvxopt.matrix(0.0)"
   ]
  },
  {
   "cell_type": "code",
   "execution_count": 7,
   "metadata": {},
   "outputs": [
    {
     "name": "stdout",
     "output_type": "stream",
     "text": [
      "     pcost       dcost       gap    pres   dres\n",
      " 0: -5.7064e-01 -1.3352e+00  8e+00  3e+00  1e+00\n",
      " 1: -2.2766e-01 -1.2143e+00  1e+00  5e-16  1e-15\n",
      " 2: -4.5984e-01 -5.4234e-01  8e-02  4e-17  6e-16\n",
      " 3: -4.9885e-01 -5.0041e-01  2e-03  7e-17  7e-16\n",
      " 4: -4.9999e-01 -5.0000e-01  2e-05  2e-16  5e-16\n",
      " 5: -5.0000e-01 -5.0000e-01  2e-07  2e-16  5e-16\n",
      "Optimal solution found.\n"
     ]
    }
   ],
   "source": [
    "sol=cvxopt.solvers.qp(P, q, G, h, A, b)"
   ]
  },
  {
   "cell_type": "code",
   "execution_count": 8,
   "metadata": {},
   "outputs": [],
   "source": [
    "alphas = np.ravel(sol['x'])"
   ]
  },
  {
   "cell_type": "code",
   "execution_count": 9,
   "metadata": {},
   "outputs": [
    {
     "data": {
      "text/plain": [
       "array([1.15156864e-07, 2.49999924e-01, 2.49999924e-01, 2.49999924e-01,\n",
       "       2.49999924e-01, 1.15156864e-07])"
      ]
     },
     "execution_count": 9,
     "metadata": {},
     "output_type": "execute_result"
    }
   ],
   "source": [
    "alphas"
   ]
  },
  {
   "cell_type": "code",
   "execution_count": 11,
   "metadata": {},
   "outputs": [],
   "source": [
    "sv_inds = np.arange(len(y))[alphas > 1e-5]"
   ]
  },
  {
   "cell_type": "code",
   "execution_count": 12,
   "metadata": {},
   "outputs": [],
   "source": [
    "w=0\n",
    "for i in sv_inds:\n",
    "    w += alphas[i]*X[i]*y[i]"
   ]
  },
  {
   "cell_type": "code",
   "execution_count": 14,
   "metadata": {},
   "outputs": [
    {
     "data": {
      "text/plain": [
       "array([-9.99999696e-01,  3.33066907e-16])"
      ]
     },
     "execution_count": 14,
     "metadata": {},
     "output_type": "execute_result"
    }
   ],
   "source": [
    "w"
   ]
  },
  {
   "cell_type": "code",
   "execution_count": 16,
   "metadata": {},
   "outputs": [],
   "source": [
    "b = 0\n",
    "for i in sv_inds:\n",
    "    b += y[i] - np.dot(w, X[i])\n",
    "b /= len(sv_inds)"
   ]
  },
  {
   "cell_type": "code",
   "execution_count": 17,
   "metadata": {},
   "outputs": [
    {
     "data": {
      "text/plain": [
       "1.9999993920737709"
      ]
     },
     "execution_count": 17,
     "metadata": {},
     "output_type": "execute_result"
    }
   ],
   "source": [
    "b"
   ]
  },
  {
   "cell_type": "code",
   "execution_count": 18,
   "metadata": {},
   "outputs": [
    {
     "data": {
      "text/plain": [
       "<matplotlib.contour.QuadContourSet at 0x14f7bb09898>"
      ]
     },
     "execution_count": 18,
     "metadata": {},
     "output_type": "execute_result"
    },
    {
     "data": {
      "image/png": "[encoded data removed]",
      "text/plain": [
       "<Figure size 720x576 with 1 Axes>"
      ]
     },
     "metadata": {},
     "output_type": "display_data"
    }
   ],
   "source": [
    "nx = ny = 200\n",
    "x_min = y_min = 0\n",
    "x_max = y_max = 4\n",
    "xx, yy = np.meshgrid(np.linspace(x_min, x_max, nx), np.linspace(y_min, y_max, ny))\n",
    "D=np.c_[xx.ravel(), yy.ravel()]\n",
    "p=np.array([b+np.dot(w, d) for d in D])\n",
    "p=p.reshape(xx.shape)\n",
    "plt.pcolormesh(xx, yy, p, cmap='seismic',\n",
    "                   norm=colors.Normalize(-5, 5))\n",
    "\n",
    "for i in range(len(X)):\n",
    "    if y[i] == 1:\n",
    "        plt.plot(X[i][0], X[i][1], 'o', color='red', markersize=20)\n",
    "    else:\n",
    "        plt.plot(X[i][0], X[i][1], 'o', color='blue', markersize=20)\n",
    "        \n",
    "plt.contour(xx, yy, p, [0], linewidths=2., colors='k')\n",
    "plt.contour(xx, yy, p, [1], linewidths=2., colors='r')\n",
    "plt.contour(xx, yy, p, [-1], linewidths=2., colors='b')"
   ]
  },
  {
   "cell_type": "markdown",
   "metadata": {},
   "source": [
    "# Kernels"
   ]
  },
  {
   "cell_type": "code",
   "execution_count": 19,
   "metadata": {},
   "outputs": [],
   "source": [
    "def linear_kernel(x1, x2):\n",
    "    return np.dot(x1, x2)"
   ]
  },
  {
   "cell_type": "code",
   "execution_count": 20,
   "metadata": {},
   "outputs": [],
   "source": [
    "def poly_kernel(x1, x2, d=2):\n",
    "    return (np.dot(x1, x2)+1)**d"
   ]
  },
  {
   "cell_type": "code",
   "execution_count": 21,
   "metadata": {},
   "outputs": [],
   "source": [
    "def radial_basis_kernel(x1, x2, s):\n",
    "    return np.exp(-1*(np.dot(x1-x2, x1-x2)/(2*(s**2))))"
   ]
  },
  {
   "cell_type": "code",
   "execution_count": 22,
   "metadata": {},
   "outputs": [],
   "source": [
    "def tanh_kernel(x1, x2):\n",
    "    return np.tanh(2*np.dot(x1, x2)+1)"
   ]
  },
  {
   "cell_type": "code",
   "execution_count": 23,
   "metadata": {},
   "outputs": [],
   "source": [
    "def kernel_matrix(X, kf):\n",
    "    ns, nf = X.shape\n",
    "    km = np.zeros((ns, ns))\n",
    "    for i in range(ns):\n",
    "        for j in range(ns):\n",
    "            km[i, j] = kf(X[i], X[j])\n",
    "    return km"
   ]
  },
  {
   "cell_type": "code",
   "execution_count": 24,
   "metadata": {},
   "outputs": [],
   "source": [
    "def classify(X, y, alphas, b, kf, x):\n",
    "    sv_inds = np.arange(len(y))[alphas > 1e-5]\n",
    "    p=0\n",
    "    for i in sv_inds:\n",
    "        p += alphas[i]*y[i]*kf(X[i], x)\n",
    "    return p+b"
   ]
  },
  {
   "cell_type": "code",
   "execution_count": 25,
   "metadata": {},
   "outputs": [],
   "source": [
    "def compute_b(X, y, alphas, kf):\n",
    "    sv_inds = np.arange(len(y))[alphas > 1e-5]\n",
    "    b=0\n",
    "    for i in sv_inds:\n",
    "        b += (y[i] - classify(X, y, alphas, 0, kf, X[i]))\n",
    "    return b / len(sv_inds)"
   ]
  },
  {
   "cell_type": "code",
   "execution_count": 26,
   "metadata": {},
   "outputs": [],
   "source": [
    "X = np.array([[1, 1], [1, 3], [3, 1], [3, 3]])\n",
    "y = np.array([1., -1., -1., 1.])"
   ]
  },
  {
   "cell_type": "code",
   "execution_count": 27,
   "metadata": {},
   "outputs": [],
   "source": [
    "#kf = linear_kernel\n",
    "#kf = lambda x1, x2: poly_kernel(x1, x2, 3)\n",
    "kf = lambda x1, x2: radial_basis_kernel(x1, x2, 10)\n",
    "#kf = tanh_kernel"
   ]
  },
  {
   "cell_type": "code",
   "execution_count": 28,
   "metadata": {},
   "outputs": [],
   "source": [
    "ni, nf = X.shape\n",
    "P=cvxopt.matrix(np.outer(y,y)*kernel_matrix(X, kf))\n",
    "q=cvxopt.matrix(-1*np.ones(ni))\n",
    "G=cvxopt.matrix(np.diag(-1*np.ones(ni)))\n",
    "h=cvxopt.matrix(np.zeros(ni))\n",
    "A=cvxopt.matrix(y, (1, ni))\n",
    "b=cvxopt.matrix(0.0)"
   ]
  },
  {
   "cell_type": "code",
   "execution_count": 29,
   "metadata": {},
   "outputs": [
    {
     "name": "stdout",
     "output_type": "stream",
     "text": [
      "     pcost       dcost       gap    pres   dres\n",
      " 0: -3.9976e+00 -7.9961e+00  4e+00  4e-16  2e+00\n",
      " 1: -9.9282e+00 -1.0027e+01  1e-01  6e-16  1e+00\n",
      " 2:  2.1201e+05 -2.8877e+05  5e+05  1e-11  3e-12\n",
      " 3:  1.9914e+04 -5.2707e+04  7e+04  2e-12  3e-12\n",
      " 4: -3.2333e+03 -1.3141e+04  1e+04  2e-12  4e-13\n",
      " 5: -5.0668e+03 -5.9688e+03  9e+02  2e-12  7e-13\n",
      " 6: -5.1008e+03 -5.1092e+03  8e+00  5e-13  7e-13\n",
      " 7: -5.1008e+03 -5.1009e+03  8e-02  8e-13  6e-13\n",
      " 8: -5.1008e+03 -5.1008e+03  8e-04  8e-13  2e-13\n",
      "Optimal solution found.\n"
     ]
    }
   ],
   "source": [
    "sol=cvxopt.solvers.qp(P, q, G, h, A, b)"
   ]
  },
  {
   "cell_type": "code",
   "execution_count": 30,
   "metadata": {},
   "outputs": [],
   "source": [
    "alphas = np.ravel(sol['x'])"
   ]
  },
  {
   "cell_type": "code",
   "execution_count": 31,
   "metadata": {},
   "outputs": [],
   "source": [
    "b=compute_b(X, y, alphas, kf)"
   ]
  },
  {
   "cell_type": "code",
   "execution_count": 32,
   "metadata": {},
   "outputs": [
    {
     "data": {
      "text/plain": [
       "<matplotlib.contour.QuadContourSet at 0x14f7bb4db00>"
      ]
     },
     "execution_count": 32,
     "metadata": {},
     "output_type": "execute_result"
    },
    {
     "data": {
      "image/png": "[encoded data removed]",
      "text/plain": [
       "<Figure size 720x576 with 1 Axes>"
      ]
     },
     "metadata": {},
     "output_type": "display_data"
    }
   ],
   "source": [
    "nx = ny = 200\n",
    "x_min = y_min = -10\n",
    "x_max = y_max = 10\n",
    "xx, yy = np.meshgrid(np.linspace(x_min, x_max, nx), np.linspace(y_min, y_max, ny))\n",
    "D=np.c_[xx.ravel(), yy.ravel()]\n",
    "p=np.array([classify(X, y, alphas, b, kf, d) for d in D])\n",
    "p=p.reshape(xx.shape)\n",
    "plt.pcolormesh(xx, yy, p, cmap='seismic',\n",
    "                   norm=colors.Normalize(-5, 5))\n",
    "\n",
    "for i in range(len(X)):\n",
    "    if y[i] == 1:\n",
    "        plt.plot(X[i][0], X[i][1], 'o', color='red', markersize=20)\n",
    "    else:\n",
    "        plt.plot(X[i][0], X[i][1], 'o', color='blue', markersize=20)\n",
    "        \n",
    "plt.contour(xx, yy, p, [0], linewidths=2., colors='k')\n",
    "plt.contour(xx, yy, p, [1], linewidths=2., colors='r')\n",
    "plt.contour(xx, yy, p, [-1], linewidths=2., colors='b')"
   ]
  },
  {
   "cell_type": "markdown",
   "metadata": {},
   "source": [
    "# Soft-Margin"
   ]
  },
  {
   "cell_type": "code",
   "execution_count": 34,
   "metadata": {},
   "outputs": [],
   "source": [
    "def compute_b_soft(X, y, alphas, kf, C):\n",
    "    b=0\n",
    "    count = 0\n",
    "    for i in range(len(y)):\n",
    "        if alphas[i] > 1e-4 and C-alphas[i] > 1e-4:\n",
    "            b += (y[i] - classify(X, y, alphas, 0, kf, X[i]))\n",
    "            count += 1\n",
    "    return b / count"
   ]
  },
  {
   "cell_type": "code",
   "execution_count": 35,
   "metadata": {},
   "outputs": [],
   "source": [
    "X = np.array([[0.5, 2], [1, 1], [1, 3], [3, 1], [3, 3], [3.5, 2], [3.5, 1]])\n",
    "y = np.array([1, 1., 1., -1., -1., -1., 1.])"
   ]
  },
  {
   "cell_type": "code",
   "execution_count": 36,
   "metadata": {},
   "outputs": [],
   "source": [
    "C=100\n",
    "\n",
    "#kf = linear_kernel\n",
    "kf = lambda x1, x2: radial_basis_kernel(x1, x2, 1)\n",
    "\n",
    "ni, nf = X.shape\n",
    "\n",
    "P=cvxopt.matrix(np.outer(y,y)*kernel_matrix(X, kf))\n",
    "q=cvxopt.matrix(-1*np.ones(ni))\n",
    "G=cvxopt.matrix(np.diag(-1*np.ones(ni)))\n",
    "\n",
    "# a<=C constraints\n",
    "G = cvxopt.matrix(np.vstack((G, cvxopt.matrix(np.diag(np.ones(ni))))))\n",
    "\n",
    "h=cvxopt.matrix(np.zeros(ni))\n",
    "\n",
    "h=cvxopt.matrix(np.vstack((h, cvxopt.matrix(np.ones(ni) * C))))\n",
    "\n",
    "A=cvxopt.matrix(y, (1, ni))\n",
    "b=cvxopt.matrix(0.0)"
   ]
  },
  {
   "cell_type": "code",
   "execution_count": 37,
   "metadata": {},
   "outputs": [
    {
     "name": "stdout",
     "output_type": "stream",
     "text": [
      "     pcost       dcost       gap    pres   dres\n",
      " 0:  2.8712e+03 -1.4046e+04  2e+04  5e-17  1e-14\n",
      " 1:  6.5101e+02 -1.0536e+03  2e+03  7e-15  1e-14\n",
      " 2:  7.6232e+01 -2.0204e+02  3e+02  1e-16  6e-15\n",
      " 3: -2.8262e+00 -3.5993e+01  3e+01  7e-15  1e-15\n",
      " 4: -1.1369e+01 -1.5081e+01  4e+00  2e-16  1e-15\n",
      " 5: -1.2119e+01 -1.2479e+01  4e-01  2e-15  7e-16\n",
      " 6: -1.2246e+01 -1.2279e+01  3e-02  4e-15  5e-16\n",
      " 7: -1.2261e+01 -1.2264e+01  3e-03  2e-16  1e-15\n",
      " 8: -1.2262e+01 -1.2262e+01  2e-04  2e-16  5e-16\n",
      " 9: -1.2262e+01 -1.2262e+01  4e-06  2e-16  7e-16\n",
      "Optimal solution found.\n"
     ]
    }
   ],
   "source": [
    "sol=cvxopt.solvers.qp(P, q, G, h, A, b)"
   ]
  },
  {
   "cell_type": "code",
   "execution_count": 38,
   "metadata": {},
   "outputs": [],
   "source": [
    "alphas = np.ravel(sol['x'])"
   ]
  },
  {
   "cell_type": "code",
   "execution_count": 39,
   "metadata": {},
   "outputs": [
    {
     "data": {
      "text/plain": [
       "array([4.85615741e-08, 1.31548379e+00, 5.13141075e-01, 9.37366560e+00,\n",
       "       5.79839979e-02, 2.83005831e+00, 1.04330830e+01])"
      ]
     },
     "execution_count": 39,
     "metadata": {},
     "output_type": "execute_result"
    }
   ],
   "source": [
    "alphas"
   ]
  },
  {
   "cell_type": "code",
   "execution_count": 40,
   "metadata": {},
   "outputs": [],
   "source": [
    "b=compute_b_soft(X, y, alphas, kf, C)"
   ]
  },
  {
   "cell_type": "code",
   "execution_count": 41,
   "metadata": {},
   "outputs": [
    {
     "data": {
      "text/plain": [
       "<matplotlib.contour.QuadContourSet at 0x14f7bfa4a58>"
      ]
     },
     "execution_count": 41,
     "metadata": {},
     "output_type": "execute_result"
    },
    {
     "data": {
      "image/png": "[encoded data removed]",
      "text/plain": [
       "<Figure size 720x576 with 1 Axes>"
      ]
     },
     "metadata": {},
     "output_type": "display_data"
    }
   ],
   "source": [
    "nx = ny = 200\n",
    "x_min = y_min = 0\n",
    "x_max = y_max = 4\n",
    "xx, yy = np.meshgrid(np.linspace(x_min, x_max, nx), np.linspace(y_min, y_max, ny))\n",
    "D=np.c_[xx.ravel(), yy.ravel()]\n",
    "p=np.array([classify(X, y, alphas, b, kf, d) for d in D])\n",
    "p=p.reshape(xx.shape)\n",
    "plt.pcolormesh(xx, yy, p, cmap='seismic',\n",
    "                   norm=colors.Normalize(-5, 5))\n",
    "\n",
    "for i in range(len(X)):\n",
    "    if y[i] == 1:\n",
    "        plt.plot(X[i][0], X[i][1], 'o', color='red', markersize=20)\n",
    "    else:\n",
    "        plt.plot(X[i][0], X[i][1], 'o', color='blue', markersize=20)\n",
    "        \n",
    "plt.contour(xx, yy, p, [0], linewidths=2., colors='k')\n",
    "plt.contour(xx, yy, p, [1], linewidths=2., colors='r')\n",
    "plt.contour(xx, yy, p, [-1], linewidths=2., colors='b')"
   ]
  },
  {
   "cell_type": "code",
   "execution_count": null,
   "metadata": {
    "collapsed": true
   },
   "outputs": [],
   "source": []
  }
 ],
 "metadata": {
  "kernelspec": {
   "display_name": "Python 3",
   "language": "python",
   "name": "python3"
  },
  "language_info": {
   "codemirror_mode": {
    "name": "ipython",
    "version": 3
   },
   "file_extension": ".py",
   "mimetype": "text/x-python",
   "name": "python",
   "nbconvert_exporter": "python",
   "pygments_lexer": "ipython3",
   "version": "3.5.4"
  }
 },
 "nbformat": 4,
 "nbformat_minor": 1
}
